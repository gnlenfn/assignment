{
 "cells": [
  {
   "cell_type": "code",
   "execution_count": 9,
   "id": "cb46142a-67c5-4143-8017-bde0a99d7bf4",
   "metadata": {},
   "outputs": [],
   "source": [
    "from sqlalchemy import create_engine\n",
    "import pandas as pd\n",
    "import os\n",
    "from dotenv import load_dotenv\n",
    "\n",
    "load_dotenv(verbose=True,\n",
    "            dotenv_path='./.env')\n",
    "engine = create_engine(f'postgresql://{os.getenv(\"USERNAME\")}:{os.getenv(\"PASSWORD\")}@{os.getenv(\"HOST\")}/{os.getenv(\"DATABASE\")}', \n",
    "                       connect_args={'options': '-csearch_path={}'.format('de')})"
   ]
  },
  {
   "cell_type": "code",
   "execution_count": 10,
   "id": "91516383-e0b1-4d32-bde3-73947eb6173a",
   "metadata": {},
   "outputs": [],
   "source": [
    "visit_occurrence = pd.read_sql_table('visit_occurrence', engine)"
   ]
  },
  {
   "cell_type": "markdown",
   "id": "41575fca-6716-49e4-ae7a-e8e37f0af2f9",
   "metadata": {
    "tags": []
   },
   "source": [
    "# No.1\n",
    "visit_occurrence 테이블은 병원에 방문한 환자들의 방문식별번호(id), 병원 방문\n",
    "시작일자, 종료일자, 방문 타입(내원, 외래 등) 등 병원 방문과 관련된 정보를 포함하고 있습니다.  \n",
    "내원일수는 환자가 요양기관을 방문하여 진료를 받은 일수이며, `내원일수 = 방문종료일자 - 방문시작일자 + 1` 으로 계산합니다. 모든 환자에 대해 총 내원일수를 구하고 총 내원일수의 최대값과 총 내원일수 최대값을 가지는\n",
    "환자수를 찾는 쿼리를 작성합니다.\n",
    "- 방문시작일자는 visit_start_date, 방문종료일자는 visit_end_date 를 사용합니다."
   ]
  },
  {
   "cell_type": "code",
   "execution_count": 11,
   "id": "82ae3b2f-b809-4b7a-89a5-7ff09106b38a",
   "metadata": {},
   "outputs": [
    {
     "name": "stdout",
     "output_type": "stream",
     "text": [
      "<class 'pandas.core.frame.DataFrame'>\n",
      "RangeIndex: 41810 entries, 0 to 41809\n",
      "Data columns (total 17 columns):\n",
      " #   Column                         Non-Null Count  Dtype         \n",
      "---  ------                         --------------  -----         \n",
      " 0   visit_occurrence_id            41810 non-null  int64         \n",
      " 1   person_id                      41810 non-null  int64         \n",
      " 2   visit_concept_id               41810 non-null  int64         \n",
      " 3   visit_start_date               41810 non-null  datetime64[ns]\n",
      " 4   visit_start_datetime           41810 non-null  datetime64[ns]\n",
      " 5   visit_end_date                 41810 non-null  datetime64[ns]\n",
      " 6   visit_end_datetime             41810 non-null  datetime64[ns]\n",
      " 7   visit_type_concept_id          41810 non-null  int64         \n",
      " 8   provider_id                    0 non-null      object        \n",
      " 9   care_site_id                   0 non-null      object        \n",
      " 10  visit_source_value             41810 non-null  object        \n",
      " 11  visit_source_concept_id        41810 non-null  int64         \n",
      " 12  admitted_from_concept_id       41810 non-null  int64         \n",
      " 13  admitted_from_source_value     0 non-null      object        \n",
      " 14  discharge_to_source_value      41810 non-null  object        \n",
      " 15  discharge_to_concept_id        0 non-null      object        \n",
      " 16  preceding_visit_occurrence_id  40810 non-null  float64       \n",
      "dtypes: datetime64[ns](4), float64(1), int64(6), object(6)\n",
      "memory usage: 5.4+ MB\n"
     ]
    }
   ],
   "source": [
    "visit_occurrence.info()"
   ]
  },
  {
   "cell_type": "markdown",
   "id": "d93c695b-ee27-40a0-849b-a9c30532c43a",
   "metadata": {},
   "source": [
    "`visit_start_date`와 `visit_end_date`는 모두 datetime 타입을 가지고 있기 때문에 손쉽게 며칠 간 내원했는지 계산할 수 있다.  \n",
    "그리고 기존 `visit_occurrence` 테이블에 새로운 column으로 내원 일수를 저장한다.  \n",
    "`value_counts()` 메소드를 통해 내원 일수의 최대값을 구할 수 있다. 동시에 최대 방문 일수를 가진 환자 수도 같이 찾을 수 있다.  \n",
    "(3731일, 1명)\n"
   ]
  },
  {
   "cell_type": "code",
   "execution_count": 12,
   "id": "daa1155e-b13d-4936-8094-be0596b51f9b",
   "metadata": {},
   "outputs": [],
   "source": [
    "from datetime import timedelta\n",
    "visit_occurrence['visit_dates'] = visit_occurrence['visit_end_date'] - visit_occurrence['visit_start_date'] + timedelta(days=1)"
   ]
  },
  {
   "cell_type": "code",
   "execution_count": 13,
   "id": "352ff846-7c5a-4404-a415-127e65ab6c19",
   "metadata": {},
   "outputs": [
    {
     "data": {
      "text/plain": [
       "3731 days        1\n",
       "714 days         1\n",
       "705 days         1\n",
       "696 days         1\n",
       "695 days         1\n",
       "             ...  \n",
       "5 days          15\n",
       "4 days          14\n",
       "3 days          42\n",
       "2 days        1765\n",
       "1 days       39715\n",
       "Name: visit_dates, Length: 89, dtype: int64"
      ]
     },
     "execution_count": 13,
     "metadata": {},
     "output_type": "execute_result"
    }
   ],
   "source": [
    "visit_occurrence['visit_dates'].value_counts().sort_index(ascending=False)"
   ]
  },
  {
   "cell_type": "code",
   "execution_count": 14,
   "id": "2ed16483-1418-4b04-a940-3e6896a6a3f3",
   "metadata": {},
   "outputs": [],
   "source": [
    "answer1 = visit_occurrence['visit_dates'].value_counts().sort_index(ascending=False).reset_index().rename(columns={'index': 'visit_dates', 'visit_dates': 'patients'})"
   ]
  },
  {
   "cell_type": "code",
   "execution_count": 15,
   "id": "f2fa0d8e-bb0b-4049-8de8-4b6bb5ee9359",
   "metadata": {},
   "outputs": [
    {
     "data": {
      "text/html": [
       "<div>\n",
       "<style scoped>\n",
       "    .dataframe tbody tr th:only-of-type {\n",
       "        vertical-align: middle;\n",
       "    }\n",
       "\n",
       "    .dataframe tbody tr th {\n",
       "        vertical-align: top;\n",
       "    }\n",
       "\n",
       "    .dataframe thead th {\n",
       "        text-align: right;\n",
       "    }\n",
       "</style>\n",
       "<table border=\"1\" class=\"dataframe\">\n",
       "  <thead>\n",
       "    <tr style=\"text-align: right;\">\n",
       "      <th></th>\n",
       "      <th>visit_dates</th>\n",
       "      <th>patients</th>\n",
       "    </tr>\n",
       "  </thead>\n",
       "  <tbody>\n",
       "    <tr>\n",
       "      <th>0</th>\n",
       "      <td>3731 days</td>\n",
       "      <td>1</td>\n",
       "    </tr>\n",
       "    <tr>\n",
       "      <th>1</th>\n",
       "      <td>714 days</td>\n",
       "      <td>1</td>\n",
       "    </tr>\n",
       "    <tr>\n",
       "      <th>2</th>\n",
       "      <td>705 days</td>\n",
       "      <td>1</td>\n",
       "    </tr>\n",
       "    <tr>\n",
       "      <th>3</th>\n",
       "      <td>696 days</td>\n",
       "      <td>1</td>\n",
       "    </tr>\n",
       "    <tr>\n",
       "      <th>4</th>\n",
       "      <td>695 days</td>\n",
       "      <td>1</td>\n",
       "    </tr>\n",
       "  </tbody>\n",
       "</table>\n",
       "</div>"
      ],
      "text/plain": [
       "  visit_dates  patients\n",
       "0   3731 days         1\n",
       "1    714 days         1\n",
       "2    705 days         1\n",
       "3    696 days         1\n",
       "4    695 days         1"
      ]
     },
     "execution_count": 15,
     "metadata": {},
     "output_type": "execute_result"
    }
   ],
   "source": [
    "answer1.head()"
   ]
  },
  {
   "cell_type": "code",
   "execution_count": 16,
   "id": "fa26593f-bad3-4a1e-9307-469e890ddbf2",
   "metadata": {},
   "outputs": [
    {
     "data": {
      "text/html": [
       "<div>\n",
       "<style scoped>\n",
       "    .dataframe tbody tr th:only-of-type {\n",
       "        vertical-align: middle;\n",
       "    }\n",
       "\n",
       "    .dataframe tbody tr th {\n",
       "        vertical-align: top;\n",
       "    }\n",
       "\n",
       "    .dataframe thead th {\n",
       "        text-align: right;\n",
       "    }\n",
       "</style>\n",
       "<table border=\"1\" class=\"dataframe\">\n",
       "  <thead>\n",
       "    <tr style=\"text-align: right;\">\n",
       "      <th></th>\n",
       "      <th>visit_occurrence_id</th>\n",
       "      <th>person_id</th>\n",
       "      <th>visit_concept_id</th>\n",
       "      <th>visit_start_date</th>\n",
       "      <th>visit_start_datetime</th>\n",
       "      <th>visit_end_date</th>\n",
       "      <th>visit_end_datetime</th>\n",
       "      <th>visit_type_concept_id</th>\n",
       "      <th>provider_id</th>\n",
       "      <th>care_site_id</th>\n",
       "      <th>visit_source_value</th>\n",
       "      <th>visit_source_concept_id</th>\n",
       "      <th>admitted_from_concept_id</th>\n",
       "      <th>admitted_from_source_value</th>\n",
       "      <th>discharge_to_source_value</th>\n",
       "      <th>discharge_to_concept_id</th>\n",
       "      <th>preceding_visit_occurrence_id</th>\n",
       "      <th>visit_dates</th>\n",
       "    </tr>\n",
       "  </thead>\n",
       "  <tbody>\n",
       "    <tr>\n",
       "      <th>18315</th>\n",
       "      <td>3508730</td>\n",
       "      <td>426322</td>\n",
       "      <td>9201</td>\n",
       "      <td>1989-05-28</td>\n",
       "      <td>1989-05-28 20:28:33</td>\n",
       "      <td>1999-08-14</td>\n",
       "      <td>1999-08-14 23:42:33</td>\n",
       "      <td>44818517</td>\n",
       "      <td>None</td>\n",
       "      <td>None</td>\n",
       "      <td>fcb4ac7a-eaeb-4b6a-895c-0f5a4b3abf56</td>\n",
       "      <td>0</td>\n",
       "      <td>0</td>\n",
       "      <td>None</td>\n",
       "      <td>0</td>\n",
       "      <td>None</td>\n",
       "      <td>54576630.0</td>\n",
       "      <td>3731 days</td>\n",
       "    </tr>\n",
       "  </tbody>\n",
       "</table>\n",
       "</div>"
      ],
      "text/plain": [
       "       visit_occurrence_id  person_id  visit_concept_id visit_start_date  \\\n",
       "18315              3508730     426322              9201       1989-05-28   \n",
       "\n",
       "      visit_start_datetime visit_end_date  visit_end_datetime  \\\n",
       "18315  1989-05-28 20:28:33     1999-08-14 1999-08-14 23:42:33   \n",
       "\n",
       "       visit_type_concept_id provider_id care_site_id  \\\n",
       "18315               44818517        None         None   \n",
       "\n",
       "                         visit_source_value  visit_source_concept_id  \\\n",
       "18315  fcb4ac7a-eaeb-4b6a-895c-0f5a4b3abf56                        0   \n",
       "\n",
       "       admitted_from_concept_id admitted_from_source_value  \\\n",
       "18315                         0                       None   \n",
       "\n",
       "      discharge_to_source_value discharge_to_concept_id  \\\n",
       "18315                         0                    None   \n",
       "\n",
       "       preceding_visit_occurrence_id visit_dates  \n",
       "18315                     54576630.0   3731 days  "
      ]
     },
     "execution_count": 16,
     "metadata": {},
     "output_type": "execute_result"
    }
   ],
   "source": [
    "# 내원 일수의 최대값을 가진 환자의 정보\n",
    "visit_occurrence[visit_occurrence['visit_dates'] == timedelta(days=3731)]"
   ]
  },
  {
   "cell_type": "code",
   "execution_count": null,
   "id": "5168441b-1f54-4523-b701-029772277b34",
   "metadata": {},
   "outputs": [],
   "source": []
  }
 ],
 "metadata": {
  "kernelspec": {
   "display_name": "Python 3",
   "language": "python",
   "name": "python3"
  },
  "language_info": {
   "codemirror_mode": {
    "name": "ipython",
    "version": 3
   },
   "file_extension": ".py",
   "mimetype": "text/x-python",
   "name": "python",
   "nbconvert_exporter": "python",
   "pygments_lexer": "ipython3",
   "version": "3.9.7"
  }
 },
 "nbformat": 4,
 "nbformat_minor": 5
}
