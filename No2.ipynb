{
 "cells": [
  {
   "cell_type": "code",
   "execution_count": 1,
   "id": "94814337-beef-4bcd-8a52-ca8d35dd3a44",
   "metadata": {},
   "outputs": [],
   "source": [
    "from sqlalchemy import create_engine\n",
    "import pandas as pd\n",
    "import os\n",
    "from dotenv import load_dotenv\n",
    "\n",
    "load_dotenv(verbose=True,\n",
    "            dotenv_path='./.env')\n",
    "engine = create_engine(f'postgresql://{os.getenv(\"USERNAME\")}:{os.getenv(\"PASSWORD\")}@{os.getenv(\"HOST\")}/{os.getenv(\"DATABASE\")}', \n",
    "                       connect_args={'options': '-csearch_path={}'.format('de')})"
   ]
  },
  {
   "cell_type": "code",
   "execution_count": null,
   "id": "8435fb9c-3945-4e00-b246-af6bee94cb5b",
   "metadata": {},
   "outputs": [],
   "source": [
    "%%time\n",
    "concept = pd.read_sql_table('concept', engine)\n",
    "condition_occurrence = pd.read_sql_table('condition_occurrence', engine)\n",
    "# takes about 3 min"
   ]
  },
  {
   "cell_type": "markdown",
   "id": "6f124cfc-68c0-4e7a-9c4c-94eab019220c",
   "metadata": {
    "tags": []
   },
   "source": [
    "# No.2\n",
    "환자들이 진단 받은 상병 내역 중 첫글자는 (a,b,c,d,e) 문자로 시작하고 중간에\n",
    "“heart” 단어가 포함된 상병 이름을 찾으려고 합니다.  \n",
    "condition_occurrence 테이블은\n",
    "환자가 병원 방문시 진단 받은 질환이 담겨있습니다.  \n",
    "상병코드는 condition_concept_id이고, concept 테이블의 concept_id와 조인하여 상병 이름을\n",
    "찾을 수 있습니다. (concept_name 컬럼 사용)\n",
    "- 문자 검색시 대소문자를 구분하지 않습니다.\n",
    "- 상병 이름을 중복없이 나열합니다.\n",
    "  \n",
    "  \n",
    "`condition_occurrence`와 `concept`테이블의 concept_id가 (각각 condition_concept_id, concept_id 사용) 같은 것을 기준으로 join한 후 concept_name에서 조건에 맞는 것들을 찾는다.  \n",
    "pandas의 merge를 활용해서 join 했고 문자열 찾기는 정규식을 활용했다.\n",
    "  \n",
    "  ['chronic congestive heart failure']"
   ]
  },
  {
   "cell_type": "code",
   "execution_count": null,
   "id": "e7bc2e80-afc1-4a7a-8c66-133655c9b2ac",
   "metadata": {},
   "outputs": [],
   "source": [
    "condition_occurrence.head()"
   ]
  },
  {
   "cell_type": "code",
   "execution_count": null,
   "id": "a13afe8e-93f7-40e5-b980-8e65e84610db",
   "metadata": {},
   "outputs": [],
   "source": [
    "concept.head()"
   ]
  },
  {
   "cell_type": "code",
   "execution_count": null,
   "id": "ef9d9d13-3f7a-4e11-9b23-2873005e0795",
   "metadata": {},
   "outputs": [],
   "source": [
    "# 필요한 열만 남기기\n",
    "a = condition_occurrence[['condition_concept_id']]\n",
    "b = concept[['concept_id', 'concept_name']]"
   ]
  },
  {
   "cell_type": "code",
   "execution_count": null,
   "id": "5da931ee-9ef8-4895-84a6-11849267a1ef",
   "metadata": {},
   "outputs": [],
   "source": [
    "# 두 테이블 merge\n",
    "merged_concept = a.merge(b, 'left', left_on='condition_concept_id', right_on='concept_id')"
   ]
  },
  {
   "cell_type": "code",
   "execution_count": null,
   "id": "6c894257-7c0f-4bb5-b2cc-cea7c3666e2e",
   "metadata": {},
   "outputs": [],
   "source": [
    "names = merged_concept['concept_name'].str.lower() # 대소문자 구분하지 않기위해 모두 소문자로"
   ]
  },
  {
   "cell_type": "code",
   "execution_count": null,
   "id": "41f95ed4-88c7-44c3-8429-214ec8ed0f48",
   "metadata": {},
   "outputs": [],
   "source": [
    "import re\n",
    "from collections import defaultdict\n",
    "\n",
    "answer2 = defaultdict(int)\n",
    "# a,b,c,d,e로 시작하고 중간에 heart가 들어가는 상병 이름 찾기\n",
    "comp = re.compile(r'^[abcde].*heart.*')\n",
    "for n in names:\n",
    "    if comp.search(n):\n",
    "        answer2[n] += 1"
   ]
  },
  {
   "cell_type": "code",
   "execution_count": null,
   "id": "2e861b90-b816-4333-8ab3-665d99207b87",
   "metadata": {},
   "outputs": [],
   "source": [
    "answer2.keys() # 정답"
   ]
  },
  {
   "cell_type": "code",
   "execution_count": null,
   "id": "fb784636-fb00-4c8e-8fd1-85f64965d6fd",
   "metadata": {},
   "outputs": [],
   "source": [
    "cond = names.str.contains('heart')"
   ]
  },
  {
   "cell_type": "code",
   "execution_count": null,
   "id": "19f00323-2115-480a-a8a3-760b90e36aab",
   "metadata": {},
   "outputs": [],
   "source": [
    "names[cond].value_counts() # heart가 들어가는 상병 이름이 몇 개 없다"
   ]
  },
  {
   "cell_type": "code",
   "execution_count": null,
   "id": "5b758837-0e97-4e88-8e1a-768d8571ba7e",
   "metadata": {},
   "outputs": [],
   "source": []
  }
 ],
 "metadata": {
  "kernelspec": {
   "display_name": "Python 3",
   "language": "python",
   "name": "python3"
  },
  "language_info": {
   "codemirror_mode": {
    "name": "ipython",
    "version": 3
   },
   "file_extension": ".py",
   "mimetype": "text/x-python",
   "name": "python",
   "nbconvert_exporter": "python",
   "pygments_lexer": "ipython3",
   "version": "3.9.7"
  }
 },
 "nbformat": 4,
 "nbformat_minor": 5
}
