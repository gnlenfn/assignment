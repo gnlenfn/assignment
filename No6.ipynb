{
 "cells": [
  {
   "cell_type": "code",
   "execution_count": 1,
   "id": "0c4b96cb-ca49-465a-a213-59f535e50226",
   "metadata": {},
   "outputs": [],
   "source": [
    "from sqlalchemy import create_engine\n",
    "import pandas as pd\n",
    "import os\n",
    "from dotenv import load_dotenv\n",
    "\n",
    "load_dotenv(verbose=True,\n",
    "            dotenv_path='./.env')\n",
    "engine = create_engine(f'postgresql://{os.getenv(\"USERNAME\")}:{os.getenv(\"PASSWORD\")}@{os.getenv(\"HOST\")}/{os.getenv(\"DATABASE\")}', \n",
    "                       connect_args={'options': '-csearch_path={}'.format('de')})"
   ]
  },
  {
   "cell_type": "code",
   "execution_count": null,
   "id": "31c48654-3b94-4336-aa6f-97bf5324ca47",
   "metadata": {},
   "outputs": [],
   "source": [
    "drug_exposure = pd.read_sql_table('drug_exposure', engine)\n",
    "condition_occurrence = pd.read_sql_table('condition_occurrence', engine)"
   ]
  },
  {
   "cell_type": "markdown",
   "id": "b47b4382-4e74-4232-8317-ba60bd75912f",
   "metadata": {
    "tags": []
   },
   "source": [
    "# No.6\n"
   ]
  },
  {
   "cell_type": "code",
   "execution_count": 318,
   "id": "834aa2ca-530a-490a-8e2f-d4fe4e585dcd",
   "metadata": {},
   "outputs": [],
   "source": [
    "x = drug_exposure[['person_id', 'drug_concept_id', 'drug_exposure_start_date', 'drug_exposure_end_date', 'visit_occurrence_id']] # drug_exposure에서 설명상 주어진 columns"
   ]
  },
  {
   "cell_type": "code",
   "execution_count": 319,
   "id": "634634ef-9ddb-4d82-a7e6-69db0772a278",
   "metadata": {},
   "outputs": [],
   "source": [
    "code = [3191208,36684827,3194332,3193274,43531010,4130162,45766052, 45757474,4099651,4129519,4063043,4230254,4193704,4304377,201826,3194082,3192767]\n",
    "target_patients = condition_occurrence[condition_occurrence['condition_concept_id'].isin(code)] # 제 2형 당뇨 환자 정보"
   ]
  },
  {
   "cell_type": "code",
   "execution_count": 320,
   "id": "d1c5ed0d-40ef-4506-a7c9-8db6580941bc",
   "metadata": {},
   "outputs": [],
   "source": [
    "y = condition_occurrence[['person_id', 'condition_concept_id', 'condition_start_datetime', 'condition_end_datetime', 'visit_occurrence_id']] # condition_occures에서 설명상 주어진 columns"
   ]
  },
  {
   "cell_type": "code",
   "execution_count": 321,
   "id": "4ee10523-f038-4ecb-b001-0dde537e3672",
   "metadata": {},
   "outputs": [],
   "source": [
    "drug_pres = x.merge(y, 'inner') # person_id를 기준으로 join"
   ]
  },
  {
   "cell_type": "code",
   "execution_count": 489,
   "id": "28558b7c-d309-4a9b-ac40-f72e7a48dbd4",
   "metadata": {},
   "outputs": [],
   "source": [
    "from collections import defaultdict"
   ]
  },
  {
   "cell_type": "code",
   "execution_count": 532,
   "id": "b5165349-4d27-4f15-bbba-c7d9408e71c1",
   "metadata": {},
   "outputs": [],
   "source": [
    "patients = drug_pres.person_id.unique()\n",
    "ans = defaultdict(int)\n",
    "# 1. 환자별로 어떤 약을 처방 받았는지 패턴을 파악\n",
    "# 2. 각 패턴별로 딕셔너리 구성\n",
    "for patient in patients:\n",
    "    test = drug_pres[drug_pres['person_id'] == patient]\n",
    "    # 피벗 테이블을 사용해 날짜별로 모아주고\n",
    "    # stack을 이용해 약품별로 펼침\n",
    "    ty = pd.pivot_table(test[['drug_exposure_start_date', 'person_id', 'drug_concept_id']], index='drug_exposure_start_date', columns='drug_concept_id').stack(level=0)\n",
    "    tx = ty.reset_index()\n",
    "    tx = tx.set_index(tx['drug_exposure_start_date']).drop(['drug_exposure_start_date', 'level_1'], axis=1)\n",
    "    tx.columns = map(str, tx.columns)\n",
    "    # df.notna()와 column의 행렬곱을 통해 해당 약을 처방한 경우만 추가되도록 함\n",
    "    # 원래 druf_concept_id가 int였기 때문에 string으로 바꿔주어야 했음\n",
    "    # sort_index로 날짜 오름차순 정렬\n",
    "    patient_record = pd.DataFrame(tx.notna().dot(tx.columns+(\",\")).str.rstrip(',')).sort_index()\n",
    "    \n",
    "    pattern = []\n",
    "    # 2가지 이상 약을 처방한 경우 괄호로 묶어주고, 처방한 약의 id를 pattern리스트에 추가\n",
    "    for index, pair in patient_record.iterrows():\n",
    "        if len(pair.str.split(',')[0]) > 1:      \n",
    "            pattern.append(\"(\"+pair.values[0]+\")\")\n",
    "        else:\n",
    "            pattern.append(pair.values[0])\n",
    "    \n",
    "    # 패턴을 나타내도록 ->로 join해주고 정답이 될 dict에 횟수 추가\n",
    "    pattern = \" -> \".join(pattern)\n",
    "    ans[pattern] += 1"
   ]
  },
  {
   "cell_type": "code",
   "execution_count": 542,
   "id": "3db4dcd0-4b3e-49af-8430-063d747b8f04",
   "metadata": {},
   "outputs": [
    {
     "data": {
      "text/html": [
       "<div>\n",
       "<style scoped>\n",
       "    .dataframe tbody tr th:only-of-type {\n",
       "        vertical-align: middle;\n",
       "    }\n",
       "\n",
       "    .dataframe tbody tr th {\n",
       "        vertical-align: top;\n",
       "    }\n",
       "\n",
       "    .dataframe thead th {\n",
       "        text-align: right;\n",
       "    }\n",
       "</style>\n",
       "<table border=\"1\" class=\"dataframe\">\n",
       "  <thead>\n",
       "    <tr style=\"text-align: right;\">\n",
       "      <th></th>\n",
       "      <th>count</th>\n",
       "    </tr>\n",
       "  </thead>\n",
       "  <tbody>\n",
       "    <tr>\n",
       "      <th>1127433</th>\n",
       "      <td>40</td>\n",
       "    </tr>\n",
       "    <tr>\n",
       "      <th>1115171</th>\n",
       "      <td>18</td>\n",
       "    </tr>\n",
       "    <tr>\n",
       "      <th>40213154</th>\n",
       "      <td>14</td>\n",
       "    </tr>\n",
       "    <tr>\n",
       "      <th>40229134</th>\n",
       "      <td>12</td>\n",
       "    </tr>\n",
       "    <tr>\n",
       "      <th>1713671</th>\n",
       "      <td>12</td>\n",
       "    </tr>\n",
       "  </tbody>\n",
       "</table>\n",
       "</div>"
      ],
      "text/plain": [
       "          count\n",
       "1127433      40\n",
       "1115171      18\n",
       "40213154     14\n",
       "40229134     12\n",
       "1713671      12"
      ]
     },
     "execution_count": 542,
     "metadata": {},
     "output_type": "execute_result"
    }
   ],
   "source": [
    "answer6 = pd.DataFrame.from_dict(ans, orient='index', columns=['count']).sort_values(by='count',ascending=False) # 테이블 형태로 만들기\n",
    "answer6.head()"
   ]
  },
  {
   "cell_type": "code",
   "execution_count": 543,
   "id": "a5d8effd-0678-478e-b9a1-61f8256fec35",
   "metadata": {},
   "outputs": [
    {
     "data": {
      "text/html": [
       "<div>\n",
       "<style scoped>\n",
       "    .dataframe tbody tr th:only-of-type {\n",
       "        vertical-align: middle;\n",
       "    }\n",
       "\n",
       "    .dataframe tbody tr th {\n",
       "        vertical-align: top;\n",
       "    }\n",
       "\n",
       "    .dataframe thead th {\n",
       "        text-align: right;\n",
       "    }\n",
       "</style>\n",
       "<table border=\"1\" class=\"dataframe\">\n",
       "  <thead>\n",
       "    <tr style=\"text-align: right;\">\n",
       "      <th></th>\n",
       "      <th>count</th>\n",
       "    </tr>\n",
       "  </thead>\n",
       "  <tbody>\n",
       "    <tr>\n",
       "      <th>1127433</th>\n",
       "      <td>40</td>\n",
       "    </tr>\n",
       "    <tr>\n",
       "      <th>1115171</th>\n",
       "      <td>18</td>\n",
       "    </tr>\n",
       "    <tr>\n",
       "      <th>40213154</th>\n",
       "      <td>14</td>\n",
       "    </tr>\n",
       "    <tr>\n",
       "      <th>40229134</th>\n",
       "      <td>12</td>\n",
       "    </tr>\n",
       "    <tr>\n",
       "      <th>1713671</th>\n",
       "      <td>12</td>\n",
       "    </tr>\n",
       "    <tr>\n",
       "      <th>...</th>\n",
       "      <td>...</td>\n",
       "    </tr>\n",
       "    <tr>\n",
       "      <th>(920300,40236824) -&gt; 19133905 -&gt; 40229134</th>\n",
       "      <td>1</td>\n",
       "    </tr>\n",
       "    <tr>\n",
       "      <th>(1332419,1539411,19075601,19126352,40213154) -&gt; 19133873 -&gt; 19133873 -&gt; (1332419,1539411,19075601,19126352) -&gt; 1127433 -&gt; 19019979 -&gt; 1127433 -&gt; (1545959,19133768)</th>\n",
       "      <td>1</td>\n",
       "    </tr>\n",
       "    <tr>\n",
       "      <th>19019979 -&gt; 40229134 -&gt; (1511248,40169216)</th>\n",
       "      <td>1</td>\n",
       "    </tr>\n",
       "    <tr>\n",
       "      <th>19133873 -&gt; 1115171</th>\n",
       "      <td>1</td>\n",
       "    </tr>\n",
       "    <tr>\n",
       "      <th>19078106 -&gt; 19078106 -&gt; 1127433 -&gt; (19078106,40213154) -&gt; 1127433 -&gt; (1511248,19020053,40160973) -&gt; 40160997</th>\n",
       "      <td>1</td>\n",
       "    </tr>\n",
       "  </tbody>\n",
       "</table>\n",
       "<p>724 rows × 1 columns</p>\n",
       "</div>"
      ],
      "text/plain": [
       "                                                    count\n",
       "1127433                                                40\n",
       "1115171                                                18\n",
       "40213154                                               14\n",
       "40229134                                               12\n",
       "1713671                                                12\n",
       "...                                                   ...\n",
       "(920300,40236824) -> 19133905 -> 40229134               1\n",
       "(1332419,1539411,19075601,19126352,40213154) ->...      1\n",
       "19019979 -> 40229134 -> (1511248,40169216)              1\n",
       "19133873 -> 1115171                                     1\n",
       "19078106 -> 19078106 -> 1127433 -> (19078106,40...      1\n",
       "\n",
       "[724 rows x 1 columns]"
      ]
     },
     "execution_count": 543,
     "metadata": {},
     "output_type": "execute_result"
    }
   ],
   "source": [
    "answer6"
   ]
  }
 ],
 "metadata": {
  "kernelspec": {
   "display_name": "Python 3",
   "language": "python",
   "name": "python3"
  },
  "language_info": {
   "codemirror_mode": {
    "name": "ipython",
    "version": 3
   },
   "file_extension": ".py",
   "mimetype": "text/x-python",
   "name": "python",
   "nbconvert_exporter": "python",
   "pygments_lexer": "ipython3",
   "version": "3.9.7"
  }
 },
 "nbformat": 4,
 "nbformat_minor": 5
}
