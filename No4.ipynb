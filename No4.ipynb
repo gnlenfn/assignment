{
 "cells": [
  {
   "cell_type": "code",
   "execution_count": 22,
   "id": "7ddf5574-263a-41eb-b486-6b8bb0625ead",
   "metadata": {},
   "outputs": [],
   "source": [
    "from sqlalchemy import create_engine\n",
    "import pandas as pd\n",
    "import os\n",
    "from dotenv import load_dotenv\n",
    "\n",
    "load_dotenv(verbose=True,\n",
    "            dotenv_path='./.env')\n",
    "engine = create_engine(f'postgresql://{os.getenv(\"USERNAME\")}:{os.getenv(\"PASSWORD\")}@{os.getenv(\"HOST\")}/{os.getenv(\"DATABASE\")}', \n",
    "                       connect_args={'options': '-csearch_path={}'.format('de')})"
   ]
  },
  {
   "cell_type": "code",
   "execution_count": null,
   "id": "a54c86f8-bc1e-4ff3-bc01-1d9f6ecd8f83",
   "metadata": {},
   "outputs": [],
   "source": [
    "%%time\n",
    "drug_exposure = pd.read_sql_table('drug_exposure', engine)\n",
    "concept = pd.read_sql_table('concept', engine)\n",
    "# takes about 3 min"
   ]
  },
  {
   "cell_type": "markdown",
   "id": "f07cec99-f7fc-437d-9cbc-0f0babf90363",
   "metadata": {
    "tags": []
   },
   "source": [
    "# No.4\n",
    "drug_exposure 테이블은 환자가 병원에서 처방받은 약의 종류와 처방시작일과 종료일에 대한 정보를 포함하고 있습니다.  \n",
    "drug_exposure 테이블로부터 선택된 15가지의 약 번호와 약품명이 저장된 첫번째 drugs 테이블이 있으며,  \n",
    "15가지 약별로 drug_exposure에 저장된 처방건수가 저장된 두번째 prescription_count 테이블이 있습니다.  \n",
    "마지막으로 drugs 테이블에 해당되는 15가지 약별로 가장 많이 처방되는 약을 짝지어 놓은 drug_pair 테이블이 있습니다.  \n",
    "3개의 테이블을 사용하여 짝지어진 두번째 약의 처방 건수가 첫번째 약의 처방 건수보다 더 많은 첫번째 약의 약품명을 처방건수 순으로 출력합니다.\n",
    "- drugs : drug_concept_id(첫번째약 번호), concept_name(약품명)\n",
    "- prescription_count : drug_concept_id(첫번째약 번호), cnt(처방건수)\n",
    "- drug_pair : drug_concept_id1(첫번째약 번호), drug_concept_id2(두번째약 번호)\n"
   ]
  },
  {
   "cell_type": "code",
   "execution_count": 7,
   "id": "be293fe3-440a-483d-9b88-7da9ad8b96c2",
   "metadata": {},
   "outputs": [],
   "source": [
    "target = [40213154,19078106,19009384,40224172,19127663,1511248,40169216,1539463,19126352,1539411,1332419,40163924,19030765,19106768,19075601]"
   ]
  },
  {
   "cell_type": "code",
   "execution_count": 8,
   "id": "dd278e7b-bc61-4e57-81e0-4b7b3c07f4cb",
   "metadata": {},
   "outputs": [],
   "source": [
    "drugs_list = drug_exposure[['drug_concept_id']].merge(concept[['concept_id', 'concept_name']], 'inner', left_on='drug_concept_id', right_on='concept_id')\n",
    "drugs_list = drugs_list[drugs_list['drug_concept_id'].isin(target)].drop('concept_id', axis=1)"
   ]
  },
  {
   "cell_type": "code",
   "execution_count": 9,
   "id": "b9b520a6-a004-46d4-9078-4a936545027e",
   "metadata": {},
   "outputs": [],
   "source": [
    "drugs_group = drugs_list.groupby(['drug_concept_id', 'concept_name'], as_index=False)\n",
    "drugs_list = drugs_group.size().sort_values(by='size', ascending=False)"
   ]
  },
  {
   "cell_type": "code",
   "execution_count": 10,
   "id": "4831e676-0e66-4be2-b0b3-5d917f110ffb",
   "metadata": {},
   "outputs": [
    {
     "data": {
      "text/html": [
       "<div>\n",
       "<style scoped>\n",
       "    .dataframe tbody tr th:only-of-type {\n",
       "        vertical-align: middle;\n",
       "    }\n",
       "\n",
       "    .dataframe tbody tr th {\n",
       "        vertical-align: top;\n",
       "    }\n",
       "\n",
       "    .dataframe thead th {\n",
       "        text-align: right;\n",
       "    }\n",
       "</style>\n",
       "<table border=\"1\" class=\"dataframe\">\n",
       "  <thead>\n",
       "    <tr style=\"text-align: right;\">\n",
       "      <th></th>\n",
       "      <th>drug_concept_id</th>\n",
       "      <th>concept_name</th>\n",
       "      <th>size</th>\n",
       "    </tr>\n",
       "  </thead>\n",
       "  <tbody>\n",
       "    <tr>\n",
       "      <th>13</th>\n",
       "      <td>40213154</td>\n",
       "      <td>Influenza, seasonal, injectable, preservative ...</td>\n",
       "      <td>8015</td>\n",
       "    </tr>\n",
       "    <tr>\n",
       "      <th>7</th>\n",
       "      <td>19078106</td>\n",
       "      <td>hydrochlorothiazide 25 MG Oral Tablet</td>\n",
       "      <td>3669</td>\n",
       "    </tr>\n",
       "    <tr>\n",
       "      <th>4</th>\n",
       "      <td>19009384</td>\n",
       "      <td>insulin isophane, human 70 UNT/ML / insulin, r...</td>\n",
       "      <td>2825</td>\n",
       "    </tr>\n",
       "    <tr>\n",
       "      <th>14</th>\n",
       "      <td>40224172</td>\n",
       "      <td>amlodipine 5 MG / hydrochlorothiazide 12.5 MG ...</td>\n",
       "      <td>2814</td>\n",
       "    </tr>\n",
       "    <tr>\n",
       "      <th>10</th>\n",
       "      <td>19127663</td>\n",
       "      <td>atenolol 50 MG / chlorthalidone 25 MG Oral Tab...</td>\n",
       "      <td>2729</td>\n",
       "    </tr>\n",
       "  </tbody>\n",
       "</table>\n",
       "</div>"
      ],
      "text/plain": [
       "    drug_concept_id                                       concept_name  size\n",
       "13         40213154  Influenza, seasonal, injectable, preservative ...  8015\n",
       "7          19078106              hydrochlorothiazide 25 MG Oral Tablet  3669\n",
       "4          19009384  insulin isophane, human 70 UNT/ML / insulin, r...  2825\n",
       "14         40224172  amlodipine 5 MG / hydrochlorothiazide 12.5 MG ...  2814\n",
       "10         19127663  atenolol 50 MG / chlorthalidone 25 MG Oral Tab...  2729"
      ]
     },
     "execution_count": 10,
     "metadata": {},
     "output_type": "execute_result"
    }
   ],
   "source": [
    "drugs_list.head()"
   ]
  },
  {
   "cell_type": "markdown",
   "id": "fb425036-4d4c-46eb-a34a-a76e0aabfe57",
   "metadata": {},
   "source": [
    "### 4-a drugs"
   ]
  },
  {
   "cell_type": "code",
   "execution_count": 11,
   "id": "23025ac1-1754-4d7a-a70c-21f7140af066",
   "metadata": {},
   "outputs": [
    {
     "data": {
      "text/html": [
       "<div>\n",
       "<style scoped>\n",
       "    .dataframe tbody tr th:only-of-type {\n",
       "        vertical-align: middle;\n",
       "    }\n",
       "\n",
       "    .dataframe tbody tr th {\n",
       "        vertical-align: top;\n",
       "    }\n",
       "\n",
       "    .dataframe thead th {\n",
       "        text-align: right;\n",
       "    }\n",
       "</style>\n",
       "<table border=\"1\" class=\"dataframe\">\n",
       "  <thead>\n",
       "    <tr style=\"text-align: right;\">\n",
       "      <th></th>\n",
       "      <th>drug_concept_id</th>\n",
       "      <th>concept_name</th>\n",
       "    </tr>\n",
       "  </thead>\n",
       "  <tbody>\n",
       "    <tr>\n",
       "      <th>13</th>\n",
       "      <td>40213154</td>\n",
       "      <td>Influenza, seasonal, injectable, preservative ...</td>\n",
       "    </tr>\n",
       "    <tr>\n",
       "      <th>7</th>\n",
       "      <td>19078106</td>\n",
       "      <td>hydrochlorothiazide 25 MG Oral Tablet</td>\n",
       "    </tr>\n",
       "    <tr>\n",
       "      <th>4</th>\n",
       "      <td>19009384</td>\n",
       "      <td>insulin isophane, human 70 UNT/ML / insulin, r...</td>\n",
       "    </tr>\n",
       "    <tr>\n",
       "      <th>14</th>\n",
       "      <td>40224172</td>\n",
       "      <td>amlodipine 5 MG / hydrochlorothiazide 12.5 MG ...</td>\n",
       "    </tr>\n",
       "    <tr>\n",
       "      <th>10</th>\n",
       "      <td>19127663</td>\n",
       "      <td>atenolol 50 MG / chlorthalidone 25 MG Oral Tab...</td>\n",
       "    </tr>\n",
       "  </tbody>\n",
       "</table>\n",
       "</div>"
      ],
      "text/plain": [
       "    drug_concept_id                                       concept_name\n",
       "13         40213154  Influenza, seasonal, injectable, preservative ...\n",
       "7          19078106              hydrochlorothiazide 25 MG Oral Tablet\n",
       "4          19009384  insulin isophane, human 70 UNT/ML / insulin, r...\n",
       "14         40224172  amlodipine 5 MG / hydrochlorothiazide 12.5 MG ...\n",
       "10         19127663  atenolol 50 MG / chlorthalidone 25 MG Oral Tab..."
      ]
     },
     "execution_count": 11,
     "metadata": {},
     "output_type": "execute_result"
    }
   ],
   "source": [
    "drugs = drugs_list[['drug_concept_id', 'concept_name']]\n",
    "drugs.head()"
   ]
  },
  {
   "cell_type": "markdown",
   "id": "4f50b31b-d99d-4443-82f4-22b62594ab02",
   "metadata": {},
   "source": [
    "### 4-b prescription_count"
   ]
  },
  {
   "cell_type": "code",
   "execution_count": 12,
   "id": "ae021aa0-bbe5-412e-a5f6-71a20dfc9a28",
   "metadata": {},
   "outputs": [
    {
     "data": {
      "text/html": [
       "<div>\n",
       "<style scoped>\n",
       "    .dataframe tbody tr th:only-of-type {\n",
       "        vertical-align: middle;\n",
       "    }\n",
       "\n",
       "    .dataframe tbody tr th {\n",
       "        vertical-align: top;\n",
       "    }\n",
       "\n",
       "    .dataframe thead th {\n",
       "        text-align: right;\n",
       "    }\n",
       "</style>\n",
       "<table border=\"1\" class=\"dataframe\">\n",
       "  <thead>\n",
       "    <tr style=\"text-align: right;\">\n",
       "      <th></th>\n",
       "      <th>drug_concept_id</th>\n",
       "      <th>size</th>\n",
       "    </tr>\n",
       "  </thead>\n",
       "  <tbody>\n",
       "    <tr>\n",
       "      <th>13</th>\n",
       "      <td>40213154</td>\n",
       "      <td>8015</td>\n",
       "    </tr>\n",
       "    <tr>\n",
       "      <th>7</th>\n",
       "      <td>19078106</td>\n",
       "      <td>3669</td>\n",
       "    </tr>\n",
       "    <tr>\n",
       "      <th>4</th>\n",
       "      <td>19009384</td>\n",
       "      <td>2825</td>\n",
       "    </tr>\n",
       "    <tr>\n",
       "      <th>14</th>\n",
       "      <td>40224172</td>\n",
       "      <td>2814</td>\n",
       "    </tr>\n",
       "    <tr>\n",
       "      <th>10</th>\n",
       "      <td>19127663</td>\n",
       "      <td>2729</td>\n",
       "    </tr>\n",
       "  </tbody>\n",
       "</table>\n",
       "</div>"
      ],
      "text/plain": [
       "    drug_concept_id  size\n",
       "13         40213154  8015\n",
       "7          19078106  3669\n",
       "4          19009384  2825\n",
       "14         40224172  2814\n",
       "10         19127663  2729"
      ]
     },
     "execution_count": 12,
     "metadata": {},
     "output_type": "execute_result"
    }
   ],
   "source": [
    "prescription_count = drugs_list[['drug_concept_id', 'size']]\n",
    "prescription_count.head()"
   ]
  },
  {
   "cell_type": "markdown",
   "id": "aec43499-29a7-4737-af6d-d73afd1ab74b",
   "metadata": {},
   "source": [
    "### 4-c drug_pair"
   ]
  },
  {
   "cell_type": "code",
   "execution_count": 40,
   "id": "310b1f55-062e-489b-a4dc-bffd01dff311",
   "metadata": {},
   "outputs": [],
   "source": [
    "# pivot table을 통해 인덱스에 날짜, columns에 약품id가 오도록 한다\n",
    "x =  pd.pivot_table(drug_exposure[['drug_exposure_start_date', 'person_id', 'drug_concept_id', 'visit_occurrence_id']], index=['drug_exposure_start_date', 'person_id'], columns='drug_concept_id').stack(level=0)"
   ]
  },
  {
   "cell_type": "code",
   "execution_count": 41,
   "id": "68c5720d-25b4-470a-bd3b-40e2e71f4514",
   "metadata": {},
   "outputs": [],
   "source": [
    "x = x.reset_index()\n",
    "x = x.set_index(['drug_exposure_start_date', 'person_id']).drop(['level_2'], axis=1)"
   ]
  },
  {
   "cell_type": "code",
   "execution_count": 44,
   "id": "ccb0d61f-827c-4115-ab0e-dfdc3a20b238",
   "metadata": {},
   "outputs": [],
   "source": [
    "# dot product를 통해 row에서 True를 갖는 값만 열 이름을 값으로 가지도록 dataframe 만듬\n",
    "x.columns = map(str, x.columns)\n",
    "x = pd.DataFrame(x.notna().dot(x.columns+(\",\")).str.rstrip(','), columns=['prescription'])"
   ]
  },
  {
   "cell_type": "code",
   "execution_count": 49,
   "id": "3dcd9a04-7eb5-48cb-ac29-2ff1b8f9ad8e",
   "metadata": {},
   "outputs": [],
   "source": [
    "x['first'] = x.prescription.str.split(\",\").str[0]\n",
    "x['second'] = x.prescription.str.split(\",\").str[1]"
   ]
  },
  {
   "cell_type": "code",
   "execution_count": 53,
   "id": "9183d3b1-6206-468c-8b68-9e12bd248fd0",
   "metadata": {},
   "outputs": [],
   "source": [
    "x = x[['first', 'second']].reset_index(drop=True)"
   ]
  },
  {
   "cell_type": "code",
   "execution_count": 117,
   "id": "6f6f33e4-a0b2-414e-9509-3d8249dfe611",
   "metadata": {},
   "outputs": [],
   "source": [
    "# 두 쌍인 경우만 남김\n",
    "pair = x.dropna(axis=0)"
   ]
  },
  {
   "cell_type": "code",
   "execution_count": 118,
   "id": "5adf1650-b133-45f7-965b-9ecd876c01da",
   "metadata": {},
   "outputs": [],
   "source": [
    "# 처방 된 약이 총 몇번이나 처방됐는지 --> rank\n",
    "tmp = pair.melt()\n",
    "pair_counts = pd.crosstab(index=tmp['value'], columns=tmp['variable'], margins=True)"
   ]
  },
  {
   "cell_type": "code",
   "execution_count": 119,
   "id": "9a05ea3d-3ec9-4f4f-9ea3-c244537a0d19",
   "metadata": {},
   "outputs": [],
   "source": [
    "rank = pair_counts['All'].sort_values(ascending=False)"
   ]
  },
  {
   "cell_type": "code",
   "execution_count": 120,
   "id": "b3757e07-f2f9-4cff-9b5b-0e86db587482",
   "metadata": {},
   "outputs": [],
   "source": [
    "drug_pair = pd.DataFrame()"
   ]
  },
  {
   "cell_type": "code",
   "execution_count": 121,
   "id": "e9503651-8230-46bc-aee6-ae2192f75fe0",
   "metadata": {},
   "outputs": [],
   "source": [
    "pairs = pair.drop_duplicates()\n",
    "count = []"
   ]
  },
  {
   "cell_type": "code",
   "execution_count": 134,
   "id": "53028b0a-7a10-4a0b-bb59-76b26c971b47",
   "metadata": {},
   "outputs": [],
   "source": [
    "# 약품 쌍에서 두 번째 열의 약품이 첫 번째 보다 더 많이 처방됐으면 drug_pairs에 append\n",
    "for _, row in pairs.iterrows():\n",
    "    if rank[row['first']] < rank[row['second']]:\n",
    "        drug_pair = drug_pair.append(row)\n",
    "        count.append(rank[row['first']])"
   ]
  },
  {
   "cell_type": "code",
   "execution_count": 135,
   "id": "7318dbe8-1a3a-4c45-bc3b-0b93ba923bcc",
   "metadata": {},
   "outputs": [],
   "source": [
    "drug_pair['count'] = count"
   ]
  },
  {
   "cell_type": "code",
   "execution_count": 136,
   "id": "4ec699ac-0164-4186-a526-81ffb0fa4082",
   "metadata": {},
   "outputs": [
    {
     "data": {
      "text/html": [
       "<div>\n",
       "<style scoped>\n",
       "    .dataframe tbody tr th:only-of-type {\n",
       "        vertical-align: middle;\n",
       "    }\n",
       "\n",
       "    .dataframe tbody tr th {\n",
       "        vertical-align: top;\n",
       "    }\n",
       "\n",
       "    .dataframe thead th {\n",
       "        text-align: right;\n",
       "    }\n",
       "</style>\n",
       "<table border=\"1\" class=\"dataframe\">\n",
       "  <thead>\n",
       "    <tr style=\"text-align: right;\">\n",
       "      <th></th>\n",
       "      <th>first</th>\n",
       "      <th>second</th>\n",
       "    </tr>\n",
       "  </thead>\n",
       "  <tbody>\n",
       "    <tr>\n",
       "      <th>14814</th>\n",
       "      <td>19009384</td>\n",
       "      <td>40213154</td>\n",
       "    </tr>\n",
       "    <tr>\n",
       "      <th>4825</th>\n",
       "      <td>40169281</td>\n",
       "      <td>40213154</td>\n",
       "    </tr>\n",
       "    <tr>\n",
       "      <th>20580</th>\n",
       "      <td>1127433</td>\n",
       "      <td>40213154</td>\n",
       "    </tr>\n",
       "    <tr>\n",
       "      <th>723</th>\n",
       "      <td>19078106</td>\n",
       "      <td>40213154</td>\n",
       "    </tr>\n",
       "    <tr>\n",
       "      <th>4824</th>\n",
       "      <td>19106768</td>\n",
       "      <td>40163924</td>\n",
       "    </tr>\n",
       "    <tr>\n",
       "      <th>...</th>\n",
       "      <td>...</td>\n",
       "      <td>...</td>\n",
       "    </tr>\n",
       "    <tr>\n",
       "      <th>6209</th>\n",
       "      <td>1150771</td>\n",
       "      <td>1594382</td>\n",
       "    </tr>\n",
       "    <tr>\n",
       "      <th>11244</th>\n",
       "      <td>19074841</td>\n",
       "      <td>19078461</td>\n",
       "    </tr>\n",
       "    <tr>\n",
       "      <th>17740</th>\n",
       "      <td>19077572</td>\n",
       "      <td>40169281</td>\n",
       "    </tr>\n",
       "    <tr>\n",
       "      <th>25521</th>\n",
       "      <td>1114379</td>\n",
       "      <td>1511248</td>\n",
       "    </tr>\n",
       "    <tr>\n",
       "      <th>15660</th>\n",
       "      <td>19077463</td>\n",
       "      <td>40231925</td>\n",
       "    </tr>\n",
       "  </tbody>\n",
       "</table>\n",
       "<p>152 rows × 2 columns</p>\n",
       "</div>"
      ],
      "text/plain": [
       "          first    second\n",
       "14814  19009384  40213154\n",
       "4825   40169281  40213154\n",
       "20580   1127433  40213154\n",
       "723    19078106  40213154\n",
       "4824   19106768  40163924\n",
       "...         ...       ...\n",
       "6209    1150771   1594382\n",
       "11244  19074841  19078461\n",
       "17740  19077572  40169281\n",
       "25521   1114379   1511248\n",
       "15660  19077463  40231925\n",
       "\n",
       "[152 rows x 2 columns]"
      ]
     },
     "execution_count": 136,
     "metadata": {},
     "output_type": "execute_result"
    }
   ],
   "source": [
    "# count는 첫 번째 열의 약품의 처방된 횟수\n",
    "# count를 기준으로 drug_pair를 정렬\n",
    "drug_pair = drug_pair.sort_values(by='count', ascending=False)\n",
    "drug_pair = drug_pair[['first', 'second']]\n",
    "drug_pair"
   ]
  },
  {
   "cell_type": "code",
   "execution_count": null,
   "id": "b258a87c-b1ec-494a-b367-4f61744aad04",
   "metadata": {},
   "outputs": [],
   "source": []
  }
 ],
 "metadata": {
  "kernelspec": {
   "display_name": "Python 3",
   "language": "python",
   "name": "python3"
  },
  "language_info": {
   "codemirror_mode": {
    "name": "ipython",
    "version": 3
   },
   "file_extension": ".py",
   "mimetype": "text/x-python",
   "name": "python",
   "nbconvert_exporter": "python",
   "pygments_lexer": "ipython3",
   "version": "3.9.7"
  }
 },
 "nbformat": 4,
 "nbformat_minor": 5
}
